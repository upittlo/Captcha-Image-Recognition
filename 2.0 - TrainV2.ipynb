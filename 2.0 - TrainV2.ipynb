{
 "cells": [
  {
   "cell_type": "markdown",
   "metadata": {},
   "source": [
    "### Train model in characters level\n",
    "\n",
    "- Best model can achieve > 99.5% accuracy\n",
    "- 3 convolutional layer and 1 dense layers\n",
    "\n"
   ]
  },
  {
   "cell_type": "code",
   "execution_count": 16,
   "metadata": {
    "collapsed": false
   },
   "outputs": [
    {
     "name": "stdout",
     "output_type": "stream",
     "text": [
      "Train on 3489 samples, validate on 873 samples\n",
      "Epoch 1/20\n",
      "3489/3489 [==============================] - 2s 715us/step - loss: 1.1401 - acc: 0.6543 - val_loss: 0.1274 - val_acc: 0.9759\n",
      "Epoch 2/20\n",
      "3489/3489 [==============================] - 2s 446us/step - loss: 0.1041 - acc: 0.9797 - val_loss: 0.1013 - val_acc: 0.9840\n",
      "Epoch 3/20\n",
      "3489/3489 [==============================] - 2s 445us/step - loss: 0.0743 - acc: 0.9851 - val_loss: 0.0859 - val_acc: 0.9863\n",
      "Epoch 4/20\n",
      "3489/3489 [==============================] - 2s 444us/step - loss: 0.0428 - acc: 0.9951 - val_loss: 0.0716 - val_acc: 0.9920\n",
      "Epoch 5/20\n",
      "3489/3489 [==============================] - 2s 444us/step - loss: 0.0392 - acc: 0.9960 - val_loss: 0.0700 - val_acc: 0.9931\n",
      "Epoch 6/20\n",
      "3489/3489 [==============================] - 2s 450us/step - loss: 0.0365 - acc: 0.9954 - val_loss: 0.0682 - val_acc: 0.9931\n",
      "Epoch 7/20\n",
      "3489/3489 [==============================] - 2s 447us/step - loss: 0.0386 - acc: 0.9940 - val_loss: 0.0828 - val_acc: 0.9897\n",
      "Epoch 8/20\n",
      "3489/3489 [==============================] - 2s 446us/step - loss: 0.0368 - acc: 0.9957 - val_loss: 0.0743 - val_acc: 0.9931\n",
      "Epoch 9/20\n",
      "3489/3489 [==============================] - 2s 445us/step - loss: 0.0329 - acc: 0.9954 - val_loss: 0.1012 - val_acc: 0.9851\n",
      "Epoch 10/20\n",
      "3489/3489 [==============================] - 2s 449us/step - loss: 0.0349 - acc: 0.9951 - val_loss: 0.0756 - val_acc: 0.9920\n",
      "Epoch 11/20\n",
      "3489/3489 [==============================] - 2s 450us/step - loss: 0.0329 - acc: 0.9957 - val_loss: 0.0705 - val_acc: 0.9920\n"
     ]
    }
   ],
   "source": [
    "import cv2\n",
    "import pickle\n",
    "import os.path\n",
    "import numpy as np\n",
    "from imutils import paths\n",
    "from sklearn.preprocessing import LabelBinarizer\n",
    "from sklearn.model_selection import train_test_split\n",
    "from keras.models import Sequential\n",
    "from keras.layers.convolutional import Conv2D, MaxPooling2D\n",
    "from keras.layers.core import Flatten, Dense\n",
    "#from helpers import resize_to_fit\n",
    "from keras.callbacks import EarlyStopping\n",
    "\n",
    "LETTER_IMAGES_FOLDER = \"extracted_letter_images_amazon\"\n",
    "MODEL_FILENAME = \"captcha_model.hdf5\"\n",
    "MODEL_LABELS_FILENAME = \"model_labels.dat\"\n",
    "\n",
    "# initialize the data and labels\n",
    "data = []\n",
    "labels = []\n",
    "\n",
    "\n",
    "# loop over the input images\n",
    "for image_file in paths.list_images(LETTER_IMAGES_FOLDER):\n",
    "    \n",
    " \n",
    "    \n",
    "    # Load the image and convert it to grayscale\n",
    "    image = cv2.imread(image_file)\n",
    "    image = cv2.cvtColor(image, cv2.COLOR_BGR2GRAY)\n",
    "\n",
    "    # Resize the letter so it fits in a 20x20 pixel box\n",
    "    #image = resize_to_fit(image, 20, 20)\n",
    "    image = cv2.resize(image,(20,20))\n",
    "    ## Important !!! ###\n",
    "    # Add a third channel dimension to the image to make Keras happy\n",
    "    ## equal to reshape \n",
    "    \n",
    "    image = np.expand_dims(image, axis=2)\n",
    "\n",
    "    # Grab the name of the letter based on the folder it was in\n",
    "    label = image_file.split(os.path.sep)[-2]\n",
    "\n",
    "    # Add the letter image and it's label to our training data\n",
    "    data.append(image)\n",
    "    labels.append(label)\n",
    "\n",
    "## Standardize and convert to np array\n",
    "## convert list to array\n",
    "data = np.array(data,dtype = 'float')/255.0\n",
    "labels = np.array(labels)\n",
    "\n",
    "# Split the training data into separate train and test sets\n",
    "(X_train, X_test,Y_train,Y_test) = train_test_split(data,labels,test_size=  0.2,random_state = 0)\n",
    "\n",
    "## Convert the labels into one-hot encoding that Keras can fit\n",
    "\n",
    "lb = LabelBinarizer().fit(Y_train)\n",
    "Y_train = lb.transform(Y_train)\n",
    "Y_test = lb.transform(Y_test)\n",
    "\n",
    "## Save the mapping from labels to one-hot encodings\n",
    "## \n",
    "\n",
    "with open(MODEL_LABELS_FILENAME,\"wb\") as f:\n",
    "    pickle.dump(lb,f)\n",
    "    \n",
    "    \n",
    "## CNN model start from here\n",
    "\n",
    "model = Sequential()\n",
    "\n",
    "## First convolutional layer with max pooling\n",
    "model.add(Conv2D(20,(5,5),padding = \"same\",input_shape = (20,20,1),activation = \"relu\" ))\n",
    "model.add(MaxPooling2D(pool_size = (2,2),strides = (2,2)))\n",
    "\n",
    "### Second convolutional layer with max pooling\n",
    "\n",
    "model.add(Conv2D(50,(5,5),padding = \"same\", activation = 'relu'))\n",
    "model.add(MaxPooling2D(pool_size = (2,2),strides = (2,2)))\n",
    "\n",
    "model.add(Conv2D(80,(5,5),padding = \"same\", activation = 'relu'))\n",
    "model.add(MaxPooling2D(pool_size = (2,2),strides = (2,2)))\n",
    "\n",
    "## Hidden layer with 500 nodes\n",
    "model.add(Flatten())\n",
    "model.add(Dense(500,activation = \"relu\"))\n",
    "\n",
    "\n",
    "model.add(Dense(800,activation = \"relu\"))\n",
    "\n",
    "## Output layer with 18 nodes (one for each possible letter/number we predict)\n",
    "model.add(Dense(18,activation = \"softmax\"))\n",
    "\n",
    "### Compile\n",
    "\n",
    "model.compile(loss = \"categorical_crossentropy\",optimizer = \"adam\",metrics = [\"accuracy\"])\n",
    "\n",
    "## Early Stoping\n",
    "EarlyStopping = EarlyStopping(monitor = 'val_loss',\n",
    "                             patience = 5)\n",
    "\n",
    "\n",
    "## train the neural network\n",
    "\n",
    "train_history = model.fit(X_train, Y_train,validation_data = (X_test,Y_test),batch_size = 32,\n",
    "                          epochs = 20,verbose = 1,\n",
    "                         callbacks = [EarlyStopping])\n",
    "\n",
    "model.save(MODEL_FILENAME)\n"
   ]
  },
  {
   "cell_type": "markdown",
   "metadata": {},
   "source": [
    "## Plot to see the result \n"
   ]
  },
  {
   "cell_type": "code",
   "execution_count": 14,
   "metadata": {
    "collapsed": false
   },
   "outputs": [
    {
     "data": {
      "image/png": "[encoded data removed]",
      "text/plain": [
       "<matplotlib.figure.Figure at 0xc182eb1630>"
      ]
     },
     "metadata": {},
     "output_type": "display_data"
    }
   ],
   "source": [
    "\n",
    "import matplotlib.pyplot as plt\n",
    "\n",
    "def show_train_history(train_history,train,validation):\n",
    "    plt.plot(train_history.history[train])\n",
    "    plt.plot(train_history.history[validation])\n",
    "    plt.title(\"Train history\")\n",
    "    plt.ylabel(train)\n",
    "    plt.xlabel('Epoch')\n",
    "    plt.legend(['train','validation'], loc = 'upper left')\n",
    "    plt.show()\n",
    "    \n",
    "show_train_history(train_history,'acc','val_acc')"
   ]
  },
  {
   "cell_type": "code",
   "execution_count": null,
   "metadata": {
    "collapsed": true
   },
   "outputs": [],
   "source": []
  }
 ],
 "metadata": {
  "anaconda-cloud": {},
  "kernelspec": {
   "display_name": "Python [default]",
   "language": "python",
   "name": "python3"
  },
  "language_info": {
   "codemirror_mode": {
    "name": "ipython",
    "version": 3
   },
   "file_extension": ".py",
   "mimetype": "text/x-python",
   "name": "python",
   "nbconvert_exporter": "python",
   "pygments_lexer": "ipython3",
   "version": "3.5.6"
  }
 },
 "nbformat": 4,
 "nbformat_minor": 2
}
